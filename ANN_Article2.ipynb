{
 "cells": [
  {
   "cell_type": "markdown",
   "metadata": {},
   "source": [
    "# Import libary \n",
    "mengimpor library dasar yang diperlukan dalam pembahasan kali ini (belum memasukkan library keras)."
   ]
  },
  {
   "cell_type": "code",
   "execution_count": 1,
   "metadata": {},
   "outputs": [],
   "source": [
    "# Mengimpor library yang diperlukan\n",
    "import numpy as np\n",
    "import matplotlib.pyplot as plt\n",
    "import pandas as pd"
   ]
  },
  {
   "cell_type": "markdown",
   "metadata": {},
   "source": [
    "# import dataset."
   ]
  },
  {
   "cell_type": "code",
   "execution_count": 2,
   "metadata": {},
   "outputs": [],
   "source": [
    "# Mengimpor dataset\n",
    "dataset = pd.read_csv('dataset/Data_bank_churn.csv')\n",
    "X = dataset.iloc[:, 3:13].values\n",
    "y = dataset.iloc[:, 13].values"
   ]
  },
  {
   "cell_type": "markdown",
   "metadata": {},
   "source": [
    "* melakukan slicing untuk variabel independen X. Kita memerlukan kolom ke 3-12. Perlu diingat dalam python indeks dimulai dari nol, dan indeks terakhir tidak diikutkan.\n",
    "* melakukan slicing untuk variabel dependen y, yaitu kolom terakhir yang menunjukkan status keluar/tidaknya pegawai."
   ]
  },
  {
   "cell_type": "code",
   "execution_count": 3,
   "metadata": {},
   "outputs": [],
   "source": [
    "# Mengonversi data kategori jenis kelamin menjadi numerik\n",
    "from sklearn.preprocessing import LabelEncoder, OneHotEncoder\n",
    "from sklearn.compose import ColumnTransformer\n",
    "labelencoder = LabelEncoder()\n",
    "X[:, 2] = labelencoder.fit_transform(X[:, 2])\n"
   ]
  },
  {
   "cell_type": "code",
   "execution_count": 4,
   "metadata": {},
   "outputs": [],
   "source": [
    "# Membuat dummy variable untuk kolom negara\n",
    "columnTransformer = ColumnTransformer([('encoder', OneHotEncoder(), [1])], remainder='passthrough')\n",
    "X = np.array(columnTransformer.fit_transform(X), dtype = np.float64)\n",
    "\n",
    "# Menghilangkan 1 dummy variabel di kolom negara\n",
    "X = X[:, 1:]"
   ]
  },
  {
   "cell_type": "markdown",
   "metadata": {},
   "source": [
    "* mengimpor library untuk konversi dari data kategori ke angka.\n",
    "* mengimpor library ColumnTransformer untuk membuat dummy variabel.\n",
    "* membuat objek labelencoder sebagai fungsi dari LabelEncoder."
   ]
  },
  {
   "cell_type": "code",
   "execution_count": 5,
   "metadata": {},
   "outputs": [],
   "source": [
    "# Membagi data ke test dan training set\n",
    "from sklearn.model_selection import train_test_split\n",
    "X_train, X_test, y_train, y_test = train_test_split(X, y, test_size = 0.2, random_state = 0)\n",
    "\n",
    "# Feature Scaling\n",
    "from sklearn.preprocessing import StandardScaler\n",
    "sc = StandardScaler()\n",
    "X_train = sc.fit_transform(X_train) \n",
    "X_test = sc.transform(X_test) "
   ]
  },
  {
   "cell_type": "code",
   "execution_count": 6,
   "metadata": {},
   "outputs": [
    {
     "name": "stdout",
     "output_type": "stream",
     "text": [
      "Epoch 1/100\n",
      "800/800 [==============================] - 1s 914us/step - loss: 0.4798 - accuracy: 0.7960\n",
      "Epoch 2/100\n",
      "800/800 [==============================] - 1s 901us/step - loss: 0.4272 - accuracy: 0.7960\n",
      "Epoch 3/100\n",
      "800/800 [==============================] - 1s 895us/step - loss: 0.4208 - accuracy: 0.8025\n",
      "Epoch 4/100\n",
      "800/800 [==============================] - 1s 951us/step - loss: 0.4172 - accuracy: 0.8257\n",
      "Epoch 5/100\n",
      "800/800 [==============================] - 1s 916us/step - loss: 0.4150 - accuracy: 0.8281\n",
      "Epoch 6/100\n",
      "800/800 [==============================] - 1s 913us/step - loss: 0.4136 - accuracy: 0.8319\n",
      "Epoch 7/100\n",
      "800/800 [==============================] - 1s 916us/step - loss: 0.4120 - accuracy: 0.8324\n",
      "Epoch 8/100\n",
      "800/800 [==============================] - 1s 944us/step - loss: 0.4106 - accuracy: 0.8313\n",
      "Epoch 9/100\n",
      "800/800 [==============================] - 1s 897us/step - loss: 0.4094 - accuracy: 0.8341\n",
      "Epoch 10/100\n",
      "800/800 [==============================] - 1s 959us/step - loss: 0.4094 - accuracy: 0.8353\n",
      "Epoch 11/100\n",
      "800/800 [==============================] - 1s 923us/step - loss: 0.4079 - accuracy: 0.8341\n",
      "Epoch 12/100\n",
      "800/800 [==============================] - 1s 948us/step - loss: 0.4072 - accuracy: 0.8332\n",
      "Epoch 13/100\n",
      "800/800 [==============================] - 1s 898us/step - loss: 0.4071 - accuracy: 0.8339\n",
      "Epoch 14/100\n",
      "800/800 [==============================] - 1s 902us/step - loss: 0.4066 - accuracy: 0.8354\n",
      "Epoch 15/100\n",
      "800/800 [==============================] - 1s 905us/step - loss: 0.4059 - accuracy: 0.8347\n",
      "Epoch 16/100\n",
      "800/800 [==============================] - 1s 960us/step - loss: 0.4058 - accuracy: 0.8350\n",
      "Epoch 17/100\n",
      "800/800 [==============================] - 1s 902us/step - loss: 0.4058 - accuracy: 0.8355\n",
      "Epoch 18/100\n",
      "800/800 [==============================] - 1s 898us/step - loss: 0.4048 - accuracy: 0.8357\n",
      "Epoch 19/100\n",
      "800/800 [==============================] - 1s 906us/step - loss: 0.4046 - accuracy: 0.8347\n",
      "Epoch 20/100\n",
      "800/800 [==============================] - 1s 911us/step - loss: 0.4050 - accuracy: 0.8347\n",
      "Epoch 21/100\n",
      "800/800 [==============================] - 1s 976us/step - loss: 0.4041 - accuracy: 0.8347\n",
      "Epoch 22/100\n",
      "800/800 [==============================] - 1s 898us/step - loss: 0.4043 - accuracy: 0.8344\n",
      "Epoch 23/100\n",
      "800/800 [==============================] - 1s 899us/step - loss: 0.4040 - accuracy: 0.8350\n",
      "Epoch 24/100\n",
      "800/800 [==============================] - 1s 915us/step - loss: 0.4040 - accuracy: 0.8339\n",
      "Epoch 25/100\n",
      "800/800 [==============================] - 1s 886us/step - loss: 0.4031 - accuracy: 0.8344\n",
      "Epoch 26/100\n",
      "800/800 [==============================] - 1s 932us/step - loss: 0.4038 - accuracy: 0.8354\n",
      "Epoch 27/100\n",
      "800/800 [==============================] - 1s 885us/step - loss: 0.4036 - accuracy: 0.8353\n",
      "Epoch 28/100\n",
      "800/800 [==============================] - 1s 915us/step - loss: 0.4033 - accuracy: 0.8347\n",
      "Epoch 29/100\n",
      "800/800 [==============================] - 1s 897us/step - loss: 0.4029 - accuracy: 0.8355\n",
      "Epoch 30/100\n",
      "800/800 [==============================] - 1s 930us/step - loss: 0.4032 - accuracy: 0.8346\n",
      "Epoch 31/100\n",
      "800/800 [==============================] - 1s 891us/step - loss: 0.4032 - accuracy: 0.8346\n",
      "Epoch 32/100\n",
      "800/800 [==============================] - 1s 899us/step - loss: 0.4030 - accuracy: 0.8350\n",
      "Epoch 33/100\n",
      "800/800 [==============================] - 1s 897us/step - loss: 0.4031 - accuracy: 0.8346\n",
      "Epoch 34/100\n",
      "800/800 [==============================] - 1s 897us/step - loss: 0.4024 - accuracy: 0.8342\n",
      "Epoch 35/100\n",
      "800/800 [==============================] - 1s 924us/step - loss: 0.4024 - accuracy: 0.8351\n",
      "Epoch 36/100\n",
      "800/800 [==============================] - 1s 889us/step - loss: 0.4019 - accuracy: 0.8356\n",
      "Epoch 37/100\n",
      "800/800 [==============================] - 1s 891us/step - loss: 0.4025 - accuracy: 0.8342\n",
      "Epoch 38/100\n",
      "800/800 [==============================] - 1s 912us/step - loss: 0.4023 - accuracy: 0.8336\n",
      "Epoch 39/100\n",
      "800/800 [==============================] - 1s 955us/step - loss: 0.4019 - accuracy: 0.8351\n",
      "Epoch 40/100\n",
      "800/800 [==============================] - 1s 909us/step - loss: 0.4020 - accuracy: 0.8336\n",
      "Epoch 41/100\n",
      "800/800 [==============================] - 1s 952us/step - loss: 0.4016 - accuracy: 0.8340\n",
      "Epoch 42/100\n",
      "800/800 [==============================] - 1s 886us/step - loss: 0.4024 - accuracy: 0.8336\n",
      "Epoch 43/100\n",
      "800/800 [==============================] - 1s 873us/step - loss: 0.4021 - accuracy: 0.8347\n",
      "Epoch 44/100\n",
      "800/800 [==============================] - 1s 888us/step - loss: 0.4018 - accuracy: 0.8340\n",
      "Epoch 45/100\n",
      "800/800 [==============================] - 1s 883us/step - loss: 0.4021 - accuracy: 0.8349\n",
      "Epoch 46/100\n",
      "800/800 [==============================] - 1s 955us/step - loss: 0.4019 - accuracy: 0.8347\n",
      "Epoch 47/100\n",
      "800/800 [==============================] - 1s 894us/step - loss: 0.4017 - accuracy: 0.8342\n",
      "Epoch 48/100\n",
      "800/800 [==============================] - 1s 899us/step - loss: 0.4016 - accuracy: 0.8349\n",
      "Epoch 49/100\n",
      "800/800 [==============================] - 1s 876us/step - loss: 0.4009 - accuracy: 0.8353\n",
      "Epoch 50/100\n",
      "800/800 [==============================] - 1s 966us/step - loss: 0.4008 - accuracy: 0.8355\n",
      "Epoch 51/100\n",
      "800/800 [==============================] - 1s 939us/step - loss: 0.4015 - accuracy: 0.8353\n",
      "Epoch 52/100\n",
      "800/800 [==============================] - 1s 920us/step - loss: 0.4013 - accuracy: 0.8345\n",
      "Epoch 53/100\n",
      "800/800 [==============================] - 1s 963us/step - loss: 0.4016 - accuracy: 0.8363\n",
      "Epoch 54/100\n",
      "800/800 [==============================] - 1s 942us/step - loss: 0.4012 - accuracy: 0.8347\n",
      "Epoch 55/100\n",
      "800/800 [==============================] - 1s 917us/step - loss: 0.4011 - accuracy: 0.8360\n",
      "Epoch 56/100\n",
      "800/800 [==============================] - 1s 907us/step - loss: 0.4008 - accuracy: 0.8369\n",
      "Epoch 57/100\n",
      "800/800 [==============================] - 1s 918us/step - loss: 0.4009 - accuracy: 0.8346\n",
      "Epoch 58/100\n",
      "800/800 [==============================] - 1s 955us/step - loss: 0.4011 - accuracy: 0.8350\n",
      "Epoch 59/100\n",
      "800/800 [==============================] - 1s 906us/step - loss: 0.4009 - accuracy: 0.8340\n",
      "Epoch 60/100\n",
      "800/800 [==============================] - 1s 954us/step - loss: 0.4013 - accuracy: 0.8347\n",
      "Epoch 61/100\n",
      "800/800 [==============================] - 1s 983us/step - loss: 0.4008 - accuracy: 0.8344\n",
      "Epoch 62/100\n",
      "800/800 [==============================] - 1s 1ms/step - loss: 0.4005 - accuracy: 0.8357\n",
      "Epoch 63/100\n",
      "800/800 [==============================] - 1s 1ms/step - loss: 0.4007 - accuracy: 0.8366\n",
      "Epoch 64/100\n",
      "800/800 [==============================] - 1s 1ms/step - loss: 0.4009 - accuracy: 0.8345\n",
      "Epoch 65/100\n",
      "800/800 [==============================] - 1s 1ms/step - loss: 0.4008 - accuracy: 0.8365\n",
      "Epoch 66/100\n",
      "800/800 [==============================] - 1s 1ms/step - loss: 0.4010 - accuracy: 0.8351\n",
      "Epoch 67/100\n",
      "800/800 [==============================] - 1s 1ms/step - loss: 0.4006 - accuracy: 0.8329\n",
      "Epoch 68/100\n",
      "800/800 [==============================] - 1s 960us/step - loss: 0.4006 - accuracy: 0.8350\n",
      "Epoch 69/100\n",
      "800/800 [==============================] - 1s 981us/step - loss: 0.4007 - accuracy: 0.8345\n",
      "Epoch 70/100\n",
      "800/800 [==============================] - 1s 965us/step - loss: 0.4005 - accuracy: 0.8360\n",
      "Epoch 71/100\n",
      "800/800 [==============================] - 1s 995us/step - loss: 0.4006 - accuracy: 0.8341\n",
      "Epoch 72/100\n",
      "800/800 [==============================] - 1s 937us/step - loss: 0.4005 - accuracy: 0.8355\n",
      "Epoch 73/100\n",
      "800/800 [==============================] - 1s 920us/step - loss: 0.4009 - accuracy: 0.8365\n",
      "Epoch 74/100\n",
      "800/800 [==============================] - 1s 1ms/step - loss: 0.4003 - accuracy: 0.8349\n",
      "Epoch 75/100\n",
      "800/800 [==============================] - 1s 1ms/step - loss: 0.4006 - accuracy: 0.8345\n",
      "Epoch 76/100\n",
      "800/800 [==============================] - 1s 932us/step - loss: 0.4005 - accuracy: 0.8354\n",
      "Epoch 77/100\n",
      "800/800 [==============================] - 1s 939us/step - loss: 0.4004 - accuracy: 0.8357\n",
      "Epoch 78/100\n",
      "800/800 [==============================] - 1s 966us/step - loss: 0.4008 - accuracy: 0.8345\n",
      "Epoch 79/100\n",
      "800/800 [==============================] - 1s 939us/step - loss: 0.4006 - accuracy: 0.8360\n",
      "Epoch 80/100\n",
      "800/800 [==============================] - 1s 959us/step - loss: 0.4006 - accuracy: 0.8341\n",
      "Epoch 81/100\n",
      "800/800 [==============================] - 1s 959us/step - loss: 0.4011 - accuracy: 0.8349\n",
      "Epoch 82/100\n",
      "800/800 [==============================] - 1s 938us/step - loss: 0.4003 - accuracy: 0.8349\n",
      "Epoch 83/100\n",
      "800/800 [==============================] - 1s 982us/step - loss: 0.4004 - accuracy: 0.8354\n",
      "Epoch 84/100\n",
      "800/800 [==============================] - 1s 931us/step - loss: 0.4000 - accuracy: 0.8331\n",
      "Epoch 85/100\n",
      "800/800 [==============================] - 1s 931us/step - loss: 0.4006 - accuracy: 0.8351\n",
      "Epoch 86/100\n",
      "800/800 [==============================] - 1s 1ms/step - loss: 0.4003 - accuracy: 0.8350\n",
      "Epoch 87/100\n",
      "800/800 [==============================] - 1s 1ms/step - loss: 0.4005 - accuracy: 0.8345\n",
      "Epoch 88/100\n",
      "800/800 [==============================] - 1s 986us/step - loss: 0.4005 - accuracy: 0.8347\n",
      "Epoch 89/100\n",
      "800/800 [==============================] - 1s 1ms/step - loss: 0.4003 - accuracy: 0.8364\n",
      "Epoch 90/100\n",
      "800/800 [==============================] - 1s 1ms/step - loss: 0.4008 - accuracy: 0.8346\n",
      "Epoch 91/100\n",
      "800/800 [==============================] - 1s 1ms/step - loss: 0.4007 - accuracy: 0.8339\n",
      "Epoch 92/100\n",
      "800/800 [==============================] - 1s 1ms/step - loss: 0.4004 - accuracy: 0.8347\n",
      "Epoch 93/100\n",
      "800/800 [==============================] - 1s 1ms/step - loss: 0.4005 - accuracy: 0.8371\n",
      "Epoch 94/100\n",
      "800/800 [==============================] - 1s 1ms/step - loss: 0.4002 - accuracy: 0.8357\n",
      "Epoch 95/100\n",
      "800/800 [==============================] - 1s 1ms/step - loss: 0.4004 - accuracy: 0.8334\n",
      "Epoch 96/100\n",
      "800/800 [==============================] - 1s 1ms/step - loss: 0.4008 - accuracy: 0.8347\n",
      "Epoch 97/100\n",
      "800/800 [==============================] - 1s 1ms/step - loss: 0.4001 - accuracy: 0.8341\n",
      "Epoch 98/100\n",
      "800/800 [==============================] - 1s 993us/step - loss: 0.4005 - accuracy: 0.8351\n",
      "Epoch 99/100\n",
      "800/800 [==============================] - 1s 943us/step - loss: 0.4004 - accuracy: 0.8364\n",
      "Epoch 100/100\n",
      "800/800 [==============================] - 1s 965us/step - loss: 0.4001 - accuracy: 0.8353\n"
     ]
    },
    {
     "data": {
      "text/plain": [
       "<keras.src.callbacks.History at 0x186bcfed6d0>"
      ]
     },
     "execution_count": 6,
     "metadata": {},
     "output_type": "execute_result"
    }
   ],
   "source": [
    "# Mengimpor library Keras dan turunannya\n",
    "# Sekarang menggunakan TensorFlow 2.0\n",
    "from tensorflow.keras.models import Sequential\n",
    "from tensorflow.keras.layers import Dense\n",
    "\n",
    "# Inisialisasi ANN\n",
    "MesinKlasifikasi = Sequential()\n",
    "# Menambah input layer dan hidden layer pertama\n",
    "MesinKlasifikasi.add(Dense(units = 6, kernel_initializer = 'uniform', activation = 'relu', input_dim = 11))\n",
    "# Menambah hidden layer kedua\n",
    "MesinKlasifikasi.add(Dense(units = 6, kernel_initializer = 'uniform', activation = 'relu'))\n",
    "# Menambah output layer\n",
    "MesinKlasifikasi.add(Dense(units = 1, kernel_initializer = 'uniform', activation = 'sigmoid'))\n",
    "# Meenjalankan ANN\n",
    "MesinKlasifikasi.compile(optimizer = 'adam', loss = 'binary_crossentropy', metrics = ['accuracy'])\n",
    "# Fitting ANN ke training set\n",
    "MesinKlasifikasi.fit(X_train, y_train, batch_size = 10, epochs = 100)"
   ]
  },
  {
   "cell_type": "code",
   "execution_count": 7,
   "metadata": {},
   "outputs": [
    {
     "name": "stdout",
     "output_type": "stream",
     "text": [
      "Model: \"sequential\"\n",
      "_________________________________________________________________\n",
      " Layer (type)                Output Shape              Param #   \n",
      "=================================================================\n",
      " dense (Dense)               (None, 6)                 72        \n",
      "                                                                 \n",
      " dense_1 (Dense)             (None, 6)                 42        \n",
      "                                                                 \n",
      " dense_2 (Dense)             (None, 1)                 7         \n",
      "                                                                 \n",
      "=================================================================\n",
      "Total params: 121 (484.00 Byte)\n",
      "Trainable params: 121 (484.00 Byte)\n",
      "Non-trainable params: 0 (0.00 Byte)\n",
      "_________________________________________________________________\n"
     ]
    }
   ],
   "source": [
    "# summary model\n",
    "MesinKlasifikasi.summary()"
   ]
  },
  {
   "cell_type": "code",
   "execution_count": 8,
   "metadata": {},
   "outputs": [
    {
     "name": "stdout",
     "output_type": "stream",
     "text": [
      "63/63 [==============================] - 0s 1ms/step\n"
     ]
    }
   ],
   "source": [
    "# Memprediksi hasil test set\n",
    "y_pred = MesinKlasifikasi.predict(X_test)\n",
    "y_pred = (y_pred > 0.5)\n"
   ]
  },
  {
   "cell_type": "code",
   "execution_count": 9,
   "metadata": {},
   "outputs": [
    {
     "name": "stdout",
     "output_type": "stream",
     "text": [
      "[[1553   42]\n",
      " [ 273  132]]\n"
     ]
    }
   ],
   "source": [
    "# Membuat confusion matrix\n",
    "from sklearn.metrics import confusion_matrix\n",
    "cm = confusion_matrix(y_test, y_pred)\n",
    "print(cm)\n"
   ]
  },
  {
   "cell_type": "code",
   "execution_count": 10,
   "metadata": {},
   "outputs": [
    {
     "name": "stdout",
     "output_type": "stream",
     "text": [
      "              precision    recall  f1-score   support\n",
      "\n",
      "           0       0.85      0.97      0.91      1595\n",
      "           1       0.76      0.33      0.46       405\n",
      "\n",
      "    accuracy                           0.84      2000\n",
      "   macro avg       0.80      0.65      0.68      2000\n",
      "weighted avg       0.83      0.84      0.82      2000\n",
      "\n"
     ]
    }
   ],
   "source": [
    "# Evaluasi model\n",
    "from sklearn.metrics import classification_report\n",
    "print(classification_report(y_test, y_pred))\n"
   ]
  }
 ],
 "metadata": {
  "kernelspec": {
   "display_name": "base",
   "language": "python",
   "name": "python3"
  },
  "language_info": {
   "codemirror_mode": {
    "name": "ipython",
    "version": 3
   },
   "file_extension": ".py",
   "mimetype": "text/x-python",
   "name": "python",
   "nbconvert_exporter": "python",
   "pygments_lexer": "ipython3",
   "version": "3.11.4"
  }
 },
 "nbformat": 4,
 "nbformat_minor": 2
}
